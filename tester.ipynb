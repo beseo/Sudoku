{
 "cells": [
  {
   "attachments": {},
   "cell_type": "markdown",
   "metadata": {},
   "source": [
    "# <font size = 6> Sudoku Solver</font>\n",
    "A Sudoku Game GUI and Solver Implemented in Python with PyGame \n",
    "\n",
    "<font size = \"5\">adsfs\n",
    "fdfhadosfh\n",
    "afsdujhniasdkhb</font>\n",
    "fdsafjh"
   ]
  },
  {
   "cell_type": "markdown",
   "metadata": {},
   "source": []
  }
 ],
 "metadata": {
  "kernelspec": {
   "display_name": "Python 3",
   "language": "python",
   "name": "python3"
  },
  "language_info": {
   "name": "python",
   "version": "3.9.7 (tags/v3.9.7:1016ef3, Aug 30 2021, 20:19:38) [MSC v.1929 64 bit (AMD64)]"
  },
  "orig_nbformat": 4,
  "vscode": {
   "interpreter": {
    "hash": "4fed4f27c028dbeed0a17a12cf60ce88c6cda0780d4d4284cbf4a0c443df7881"
   }
  }
 },
 "nbformat": 4,
 "nbformat_minor": 2
}
